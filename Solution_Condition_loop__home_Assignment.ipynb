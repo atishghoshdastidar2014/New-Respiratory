{
  "nbformat": 4,
  "nbformat_minor": 0,
  "metadata": {
    "colab": {
      "name": "Solution_Condition_loop__home_Assignment.ipynb",
      "provenance": [],
      "collapsed_sections": []
    },
    "kernelspec": {
      "name": "python3",
      "display_name": "Python 3"
    },
    "language_info": {
      "name": "python"
    }
  },
  "cells": [
    {
      "cell_type": "code",
      "metadata": {
        "colab": {
          "base_uri": "https://localhost:8080/"
        },
        "id": "hUTL_sJmxUfK",
        "outputId": "3cac8547-2895-446e-ecf5-19ed25bf7150"
      },
      "source": [
        "# Write a program if user input is greater then 100$ then Go left in a shoping mall and if less then 50$ then take right while if between 50-100$ then go straight \n",
        "a = int(input(\" Please enter price\"))\n",
        "if a>100:\n",
        "  print(\"Go left\")\n",
        "elif a<50:\n",
        "  print(\"Go Right\")\n",
        "elif a>=50 and a<=100:\n",
        "  print(\"Go Straight\")"
      ],
      "execution_count": null,
      "outputs": [
        {
          "output_type": "stream",
          "text": [
            " Please enter price22\n",
            "Go Right\n"
          ],
          "name": "stdout"
        }
      ]
    },
    {
      "cell_type": "code",
      "metadata": {
        "colab": {
          "base_uri": "https://localhost:8080/"
        },
        "id": "9LlFR-hxI-8d",
        "outputId": "4cb9d74a-c157-4a7c-90d4-0bbe7b1de061"
      },
      "source": [
        "# Write a program to check weather a person Go for tour or not\n",
        "#Condition For going tour\n",
        "#1. The Day Should be Saturday or Sunday\n",
        "#2. The Day temp should be between 20 C to 30 C\n",
        "day = input(\"Enter the day: \")\n",
        "temp = int(input(\"Enter today temp: \"))\n",
        "if temp >= 20 and temp<=30 and \"Sunday\" in day and \"Saturday\" in day:\n",
        "  print(\"You can go for tour\")\n",
        "else: \n",
        "  print(\"You cannot\")\n"
      ],
      "execution_count": null,
      "outputs": [
        {
          "output_type": "stream",
          "text": [
            "Enter the day: Saturday\n",
            "Enter today temp: 15\n",
            "You cannot\n"
          ],
          "name": "stdout"
        }
      ]
    },
    {
      "cell_type": "code",
      "metadata": {
        "colab": {
          "base_uri": "https://localhost:8080/"
        },
        "id": "iqTL_SlyMyD0",
        "outputId": "4a63335e-185f-43af-9d2f-d4b5a685017b"
      },
      "source": [
        "#Write a Python program to find those numbers which are divisible by 7 and multiple of 5, between 1500 and 2700 (both included)\n",
        "list=[]\n",
        "for x in range(1500, 2701):\n",
        "    if (x%7==0) and (x%5==0):\n",
        "        list.append(x)\n",
        "print (list)"
      ],
      "execution_count": null,
      "outputs": [
        {
          "output_type": "stream",
          "text": [
            "[1505, 1540, 1575, 1610, 1645, 1680, 1715, 1750, 1785, 1820, 1855, 1890, 1925, 1960, 1995, 2030, 2065, 2100, 2135, 2170, 2205, 2240, 2275, 2310, 2345, 2380, 2415, 2450, 2485, 2520, 2555, 2590, 2625, 2660, 2695]\n"
          ],
          "name": "stdout"
        }
      ]
    },
    {
      "cell_type": "code",
      "metadata": {
        "id": "Bu6ZIt14MDjv"
      },
      "source": [
        "#Write a Python program to convert temperatures to and from celsius, fahrenheit.\n",
        "#Formula : c/5 = f-32/9 [ where c = temperature in celsius and f = temperature in fahrenheit \n",
        "temp = input(\"Input the  temperature you like to convert? (e.g., 45F, 102C etc.) : \")\n",
        "degree = int(temp[:-1])\n",
        "i_convention = temp[-1]\n",
        "\n",
        "if i_convention.upper() == \"C\":\n",
        "  result = int(round((9 * degree) / 5 + 32))\n",
        "  o_convention = \"Fahrenheit\"\n",
        "elif i_convention.upper() == \"F\":\n",
        "  result = int(round((degree - 32) * 5 / 9))\n",
        "  o_convention = \"Celsius\"\n",
        "else:\n",
        "  print(\"Input proper convention.\")\n",
        "  quit()\n",
        "print(\"The temperature in\", o_convention, \"is\", result, \"degrees.\")\n"
      ],
      "execution_count": null,
      "outputs": []
    },
    {
      "cell_type": "code",
      "metadata": {
        "colab": {
          "base_uri": "https://localhost:8080/"
        },
        "id": "tbhAwGcyOxYB",
        "outputId": "3b38e4d2-3c68-4a66-b343-e4e7660aeea5"
      },
      "source": [
        "#Write a Python program to construct the following pattern, using a nested for loop.  (That question is Optional )\n",
        "'''* \n",
        "   * * \n",
        "   * * * \n",
        "   * * * * \n",
        "   * * * * * \n",
        "   * * * * \n",
        "   * * * \n",
        "   * * \n",
        "   *'''\n",
        "\n",
        "rows = 5\n",
        "for i in range(0, rows):\n",
        "    for j in range(0, i + 1):\n",
        "        print(\"*\", end=' ')\n",
        "    print(\"\\r\")\n",
        "\n",
        "for i in range(rows, 0, -1):\n",
        "    for j in range(0, i - 1):\n",
        "        print(\"*\", end=' ')\n",
        "    print(\"\\r\")\n",
        "\n"
      ],
      "execution_count": null,
      "outputs": [
        {
          "output_type": "stream",
          "text": [
            "* \r\n",
            "* * \r\n",
            "* * * \r\n",
            "* * * * \r\n",
            "* * * * * \r\n",
            "* * * * \r\n",
            "* * * \r\n",
            "* * \r\n",
            "* \r\n",
            "\r\n"
          ],
          "name": "stdout"
        }
      ]
    },
    {
      "cell_type": "code",
      "metadata": {
        "colab": {
          "base_uri": "https://localhost:8080/"
        },
        "id": "qMKo50g1PppW",
        "outputId": "602f0dc6-f2fc-4db0-ec01-5bbca6a386d1"
      },
      "source": [
        "# print the 2nd largest number from 3 numbers \n",
        "X=int(input(\"enter first number :\"))\n",
        "Y=int(input(\"enter second number :\"))\n",
        "Z=int(input(\"enter third number :\"))\n",
        "\n",
        "if ((X >= Y ) and (X>=Z)):\n",
        "  largest = X\n",
        "elif ((Y >= X ) and (Y>=Z)):\n",
        "  largest = Y\n",
        "else:\n",
        "  largest = Z\n",
        "print(\"The largest number is: \", largest)"
      ],
      "execution_count": null,
      "outputs": [
        {
          "output_type": "stream",
          "text": [
            "enter first number :2\n",
            "enter second number :1\n",
            "enter third number :4\n",
            "The largest number is:  4\n"
          ],
          "name": "stdout"
        }
      ]
    },
    {
      "cell_type": "code",
      "metadata": {
        "colab": {
          "base_uri": "https://localhost:8080/"
        },
        "id": "WgbmUoLVPgvQ",
        "outputId": "e8fa1229-999c-4604-d8dd-86092c494890"
      },
      "source": [
        "#Given a list, iterate it, and display numbers divisible by five, and if you find a number greater than 150, stop the loop iteration.\n",
        "\n",
        "list = [14, 16, 25, 97, 68, 96, 132, 142, 152, 176, 189]\n",
        "for i in list:\n",
        "    if (i > 150):\n",
        "        break\n",
        "    if(i % 5 == 0):\n",
        "        print(i)\n"
      ],
      "execution_count": null,
      "outputs": [
        {
          "output_type": "stream",
          "text": [
            "10\n",
            "20\n",
            "90\n",
            "75\n"
          ],
          "name": "stdout"
        }
      ]
    },
    {
      "cell_type": "code",
      "metadata": {
        "colab": {
          "base_uri": "https://localhost:8080/"
        },
        "id": "ZjTtjuHLUu37",
        "outputId": "17c52218-3bdd-434d-8fe9-504f7b3afd91"
      },
      "source": [
        "# Given a number count the total number of digits in a number\n",
        "\n",
        "num=int(input(\"Enter number:\"))\n",
        "count=0\n",
        "while(num>0):\n",
        "    count=count+1\n",
        "    num=num//10\n",
        "print(\"The number of digits in the number are:\",count)"
      ],
      "execution_count": null,
      "outputs": [
        {
          "output_type": "stream",
          "text": [
            "Enter number:123456\n",
            "The number of digits in the number are: 6\n"
          ],
          "name": "stdout"
        }
      ]
    },
    {
      "cell_type": "code",
      "metadata": {
        "colab": {
          "base_uri": "https://localhost:8080/"
        },
        "id": "BEbz_FzdVIZw",
        "outputId": "85bcf00a-6dc0-4a6a-b5df-1d98583a380e"
      },
      "source": [
        "#Display a message “Done” after successful execution of for loop\n",
        "for i in range(5):\n",
        "    print(i)\n",
        "else:\n",
        "    print(\"Done!\")"
      ],
      "execution_count": null,
      "outputs": [
        {
          "output_type": "stream",
          "text": [
            "0\n",
            "1\n",
            "2\n",
            "3\n",
            "4\n",
            "Done!\n"
          ],
          "name": "stdout"
        }
      ]
    },
    {
      "cell_type": "code",
      "metadata": {
        "colab": {
          "base_uri": "https://localhost:8080/"
        },
        "id": "ZOKQ8XSQVQy1",
        "outputId": "9aa7a40a-10a4-4cfa-c1ec-0e4871bf1d5b"
      },
      "source": [
        "# Write a program to display all prime numbers within a range\n",
        "range1 = int(input(\"Enter start range\"))\n",
        "range2 = int(input(\"Enter end range\"))\n",
        "for i in range(range1,range2+1):\n",
        "  if i>1:\n",
        "    for j in range(2,num):\n",
        "      if(i%j==0):\n",
        "        break\n",
        "    else:\n",
        "      print(i)\n"
      ],
      "execution_count": null,
      "outputs": [
        {
          "output_type": "stream",
          "text": [
            "Enter start range15\n",
            "Enter end range30\n",
            "15\n",
            "16\n",
            "17\n",
            "18\n",
            "19\n",
            "20\n",
            "21\n",
            "22\n",
            "23\n",
            "24\n",
            "25\n",
            "26\n",
            "27\n",
            "28\n",
            "29\n",
            "30\n"
          ],
          "name": "stdout"
        }
      ]
    },
    {
      "cell_type": "code",
      "metadata": {
        "colab": {
          "base_uri": "https://localhost:8080/"
        },
        "id": "8yI8XsWjVZA1",
        "outputId": "14485025-ff72-4bda-d826-68f318749f40"
      },
      "source": [
        "\n",
        "#Display Fibonacci series up to 10 terms\n",
        "nterms = int(input(\"How many terms? \"))\n",
        "n1, n2 = 0, 1\n",
        "count = 0\n",
        "\n",
        "if nterms <= 0:\n",
        "   print(\"Please enter a positive integer\")\n",
        "\n",
        "elif nterms == 1:\n",
        "   print(\"Fibonacci sequence upto\",nterms,\":\")\n",
        "   print(n1)\n",
        "\n",
        "else:\n",
        "   print(\"Fibonacci sequence:\")\n",
        "   while count < nterms:\n",
        "       print(n1)\n",
        "       nth = n1 + n2\n",
        "       n1 = n2\n",
        "       n2 = nth\n",
        "       count += 1"
      ],
      "execution_count": null,
      "outputs": [
        {
          "output_type": "stream",
          "text": [
            "How many terms? 8\n",
            "Fibonacci sequence:\n",
            "0\n",
            "1\n",
            "1\n",
            "2\n",
            "3\n",
            "5\n",
            "8\n",
            "13\n"
          ],
          "name": "stdout"
        }
      ]
    },
    {
      "cell_type": "code",
      "metadata": {
        "colab": {
          "base_uri": "https://localhost:8080/"
        },
        "id": "TIwDlxpVVk_E",
        "outputId": "d3905f41-6379-4896-fcd5-e6bc3057b7ce"
      },
      "source": [
        "# Display the cube of the number up to a given integer\n",
        "num = 6\n",
        "for i in range(1, num + 1):\n",
        "    print(\"Current Number is :\", i, \" and the cube is\", (i * i * i))"
      ],
      "execution_count": null,
      "outputs": [
        {
          "output_type": "stream",
          "text": [
            "Current Number is : 1  and the cube is 1\n",
            "Current Number is : 2  and the cube is 8\n",
            "Current Number is : 3  and the cube is 27\n",
            "Current Number is : 4  and the cube is 64\n",
            "Current Number is : 5  and the cube is 125\n",
            "Current Number is : 6  and the cube is 216\n"
          ],
          "name": "stdout"
        }
      ]
    },
    {
      "cell_type": "code",
      "metadata": {
        "id": "bBAkgstaealX"
      },
      "source": [
        ""
      ],
      "execution_count": null,
      "outputs": []
    }
  ]
}