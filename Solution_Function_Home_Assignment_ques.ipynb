{
  "nbformat": 4,
  "nbformat_minor": 0,
  "metadata": {
    "colab": {
      "name": "Solution_Function_Home_Assignment_ques.ipynb",
      "provenance": [],
      "collapsed_sections": []
    },
    "kernelspec": {
      "name": "python3",
      "display_name": "Python 3"
    },
    "language_info": {
      "name": "python"
    }
  },
  "cells": [
    {
      "cell_type": "code",
      "metadata": {
        "colab": {
          "base_uri": "https://localhost:8080/"
        },
        "id": "xptnxiL6W9g8",
        "outputId": "778f1136-0a04-40ef-8b39-ba8c2fbaa493"
      },
      "source": [
        "# Create a function that can accept two arguments name and age and print its value\n",
        "def myfunc(name,age):\n",
        "  print(name,age)\n",
        "\n",
        "myfunc(\"Krishh\",25)\n",
        "\n"
      ],
      "execution_count": null,
      "outputs": [
        {
          "output_type": "stream",
          "text": [
            "Krishh 25\n"
          ],
          "name": "stdout"
        }
      ]
    },
    {
      "cell_type": "code",
      "metadata": {
        "colab": {
          "base_uri": "https://localhost:8080/"
        },
        "id": "wWJ9LDlLeQ7A",
        "outputId": "ce73c8df-e3d5-43d2-c280-e7fd328a56e1"
      },
      "source": [
        "#Write a function calculation() such that it can accept two variables and calculate the addition and subtraction of them. And also it must return both addition and subtraction in a single return call\n",
        "\n",
        "def calc(a, b):\n",
        "    return a+b, a-b\n",
        "\n",
        "res = calc(22, 11)\n",
        "print(res)"
      ],
      "execution_count": null,
      "outputs": [
        {
          "output_type": "stream",
          "text": [
            "(33, 11)\n"
          ],
          "name": "stdout"
        }
      ]
    },
    {
      "cell_type": "code",
      "metadata": {
        "colab": {
          "base_uri": "https://localhost:8080/"
        },
        "id": "P6RQQbAVepll",
        "outputId": "e8e98e3b-153c-4be1-fc8e-fb3000207f19"
      },
      "source": [
        "#Create a function showEmployee() in such a way that it should accept employee name, and its salary and display both. If the salary is missing in the function call assign default value 9000 to salary\n",
        "# )\n",
        "def showEmployee(name, salary=9000):\n",
        "    print(\"Employee\", name, \"salary is:\", salary)\n",
        "\n",
        "showEmployee(\"Ben\", 50000)\n",
        "showEmployee(\"Ben\")"
      ],
      "execution_count": null,
      "outputs": [
        {
          "output_type": "stream",
          "text": [
            "Employee Ben salary is: 50000\n",
            "Employee Ben salary is: 9000\n"
          ],
          "name": "stdout"
        }
      ]
    },
    {
      "cell_type": "code",
      "metadata": {
        "colab": {
          "base_uri": "https://localhost:8080/"
        },
        "id": "2w4heDEZe8pr",
        "outputId": "8b5a455a-bae4-4ee5-8334-756bf350b1d2"
      },
      "source": [
        "'''Create an inner function to calculate the addition in the following way\n",
        "Create an outer function that will accept two parameters, a and b\n",
        "Create an inner function inside an outer function that will calculate the addition of a and b\n",
        "At last, an outer function will add 5 into addition and return it'''\n",
        "\n",
        "def OuterFun(a, b):\n",
        "    def InnerFun(a,b):\n",
        "        return a+b\n",
        "    add = InnerFun(a, b)\n",
        "    return add+5\n",
        "\n",
        "res = OuterFun(5, 10)\n",
        "print(res)\n"
      ],
      "execution_count": null,
      "outputs": [
        {
          "output_type": "stream",
          "text": [
            "20\n"
          ],
          "name": "stdout"
        }
      ]
    },
    {
      "cell_type": "code",
      "metadata": {
        "colab": {
          "base_uri": "https://localhost:8080/"
        },
        "id": "EEy02CoNe550",
        "outputId": "33643edc-52c9-4881-af85-46609136abda"
      },
      "source": [
        "#Assign a different name to function and call it through the new name\n",
        "def original(name, age):\n",
        "    print(name, age)\n",
        "original(\"Emma\", 26)\n",
        "\n",
        "duplicate = original\n",
        "duplicate(\"Emma\", 26)"
      ],
      "execution_count": null,
      "outputs": [
        {
          "output_type": "stream",
          "text": [
            "Emma 26\n",
            "Emma 26\n"
          ],
          "name": "stdout"
        }
      ]
    },
    {
      "cell_type": "code",
      "metadata": {
        "colab": {
          "base_uri": "https://localhost:8080/"
        },
        "id": "k9E68nlOfs7S",
        "outputId": "a6884c79-eb94-4326-abdd-198decf193c0"
      },
      "source": [
        "# Write a recursive function to calculate the sum of numbers from 0 to 10\n",
        "def calSum(num):\n",
        "    if num:\n",
        "        return num + calSum(num-1)\n",
        "    else:\n",
        "        return 0\n",
        "\n",
        "res = calSum(10)\n",
        "print(res)"
      ],
      "execution_count": null,
      "outputs": [
        {
          "output_type": "stream",
          "text": [
            "55\n"
          ],
          "name": "stdout"
        }
      ]
    },
    {
      "cell_type": "code",
      "metadata": {
        "id": "sm00-srAkJp-"
      },
      "source": [
        ""
      ],
      "execution_count": null,
      "outputs": []
    }
  ]
}