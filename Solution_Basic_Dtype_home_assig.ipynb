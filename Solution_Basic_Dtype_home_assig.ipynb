{
  "nbformat": 4,
  "nbformat_minor": 0,
  "metadata": {
    "colab": {
      "name": "Solution_Basic_Dtype_home_assig.ipynb",
      "provenance": [],
      "collapsed_sections": []
    },
    "kernelspec": {
      "name": "python3",
      "display_name": "Python 3"
    },
    "language_info": {
      "name": "python"
    }
  },
  "cells": [
    {
      "cell_type": "code",
      "metadata": {
        "id": "zj0qj9Z3vGYT",
        "colab": {
          "base_uri": "https://localhost:8080/"
        },
        "outputId": "10ab5121-3f08-49a0-d0d0-abb7c0d71df7"
      },
      "source": [
        "# print the type of x,y,z\n",
        "\n",
        "x = 1  \n",
        "y = 2.8  \n",
        "z = 1j\n",
        "\n",
        "print(type(x))\n",
        "print( type(y))\n",
        "print(type(z))"
      ],
      "execution_count": null,
      "outputs": [
        {
          "output_type": "stream",
          "text": [
            "<class 'int'>\n",
            "<class 'float'>\n",
            "<class 'complex'>\n"
          ],
          "name": "stdout"
        }
      ]
    },
    {
      "cell_type": "code",
      "metadata": {
        "colab": {
          "base_uri": "https://localhost:8080/"
        },
        "id": "AljHnQDuvT4s",
        "outputId": "e080e37b-9d43-4c3b-d720-aec2bc9280c3"
      },
      "source": [
        "# Convert flot into int \n",
        "\n",
        "X=1.4\n",
        "x=int(x)\n",
        "print(type(x))"
      ],
      "execution_count": null,
      "outputs": [
        {
          "output_type": "stream",
          "text": [
            "<class 'int'>\n"
          ],
          "name": "stdout"
        }
      ]
    },
    {
      "cell_type": "code",
      "metadata": {
        "id": "pXCgmrggvfKE",
        "colab": {
          "base_uri": "https://localhost:8080/"
        },
        "outputId": "bdf6f4a0-ec13-48c5-a1bc-1e3093bf3cfa"
      },
      "source": [
        "#Convert from one type to another:\n",
        "\n",
        "x = 5   # int\n",
        "y = 3.8  # float\n",
        "z = 5j   # complex\n",
        "\n",
        "#convert from int to float:\n",
        "x=float(5)\n",
        "\n",
        "#convert from float to int:\n",
        "y=int(3.8)\n",
        "\n",
        "#convert from int to complex:\n",
        "z=complex(5j)\n",
        "\n",
        "print(type(x))\n",
        "print(type(y))\n",
        "print(type(z))"
      ],
      "execution_count": null,
      "outputs": [
        {
          "output_type": "stream",
          "text": [
            "<class 'float'>\n",
            "<class 'int'>\n",
            "<class 'complex'>\n"
          ],
          "name": "stdout"
        }
      ]
    },
    {
      "cell_type": "code",
      "metadata": {
        "id": "Rm34yvYbweTT",
        "colab": {
          "base_uri": "https://localhost:8080/"
        },
        "outputId": "94557da4-16dd-4b8c-d108-a70e620ecbdc"
      },
      "source": [
        "# Print 15 random numbers\n",
        "\n",
        "import random\n",
        "\n",
        "print(random.randrange(1, 15) )"
      ],
      "execution_count": null,
      "outputs": [
        {
          "output_type": "stream",
          "text": [
            "12\n"
          ],
          "name": "stdout"
        }
      ]
    },
    {
      "cell_type": "code",
      "metadata": {
        "id": "eXkc7b3yxYpN",
        "colab": {
          "base_uri": "https://localhost:8080/"
        },
        "outputId": "aca8c028-b8f6-498e-b4ac-26fa0f41d1a0"
      },
      "source": [
        "# Convert int ,float to string \n",
        "\n",
        "x = str(\"t5\") \n",
        "y = str(4)    \n",
        "z = str(6.0)\n",
        "\n",
        "print(type(x))\n",
        "print(type(y))\n",
        "print(type(z))\n",
        "\n",
        "\n"
      ],
      "execution_count": null,
      "outputs": [
        {
          "output_type": "stream",
          "text": [
            "<class 'str'>\n",
            "<class 'str'>\n",
            "<class 'str'>\n"
          ],
          "name": "stdout"
        }
      ]
    },
    {
      "cell_type": "code",
      "metadata": {
        "id": "RDquS0nfxB81",
        "colab": {
          "base_uri": "https://localhost:8080/"
        },
        "outputId": "407dfe41-a826-49d4-a66d-dcf3b4a776f8"
      },
      "source": [
        "# Assign a string to variable \n",
        "\n",
        "a=\"hello\"\n",
        "print(a)"
      ],
      "execution_count": null,
      "outputs": [
        {
          "output_type": "stream",
          "text": [
            "hello\n"
          ],
          "name": "stdout"
        }
      ]
    },
    {
      "cell_type": "code",
      "metadata": {
        "colab": {
          "base_uri": "https://localhost:8080/"
        },
        "id": "RH-g9oUdypcy",
        "outputId": "e04433f4-3ddf-48c9-f122-770628225dbd"
      },
      "source": [
        "# Concatenate two string \n",
        "a=\"Hello raj?\"\n",
        "b=\"Hi Manish.\"\n",
        "c=\"How are you.\"\n",
        "d=\"I am fine.\"\n",
        "\n",
        "print(a+b+c+d)"
      ],
      "execution_count": null,
      "outputs": [
        {
          "output_type": "stream",
          "text": [
            "Hello raj?Hi Manish.How are you.I am fine.\n"
          ],
          "name": "stdout"
        }
      ]
    },
    {
      "cell_type": "code",
      "metadata": {
        "colab": {
          "base_uri": "https://localhost:8080/"
        },
        "id": "Z4z8NPqxzXsS",
        "outputId": "4560d1bd-3e64-4416-a362-680b309be354"
      },
      "source": [
        "# Print the output='lo, Wor'\n",
        "a = \"Hello, World!\"\n",
        "print(a[3:10])"
      ],
      "execution_count": null,
      "outputs": [
        {
          "output_type": "stream",
          "text": [
            "lo, Wor\n"
          ],
          "name": "stdout"
        }
      ]
    },
    {
      "cell_type": "code",
      "metadata": {
        "id": "maTfRVHrzA-2",
        "colab": {
          "base_uri": "https://localhost:8080/"
        },
        "outputId": "5f893768-c2e7-42d4-97c1-4af9fb34f537"
      },
      "source": [
        "# Check the required string/word is in the sentence of not\n",
        "\n",
        "Sentence=\"Hello Indian , I like you culture.\"\n",
        "\n",
        "print(\"like\" in Sentence)"
      ],
      "execution_count": null,
      "outputs": [
        {
          "output_type": "stream",
          "text": [
            "True\n"
          ],
          "name": "stdout"
        }
      ]
    },
    {
      "cell_type": "code",
      "metadata": {
        "id": "eyFT8KlO0cMk",
        "colab": {
          "base_uri": "https://localhost:8080/"
        },
        "outputId": "8438f49e-37c7-43d7-a121-c8ed0e67ffdd"
      },
      "source": [
        "# Print the output='I Love'\n",
        "Sentence=\"I Love India!\"\n",
        "print(Sentence[0:6])"
      ],
      "execution_count": null,
      "outputs": [
        {
          "output_type": "stream",
          "text": [
            "I Love\n"
          ],
          "name": "stdout"
        }
      ]
    },
    {
      "cell_type": "code",
      "metadata": {
        "id": "VP50WkkomLu8",
        "colab": {
          "base_uri": "https://localhost:8080/"
        },
        "outputId": "8dc8266d-bef2-4a94-c0f2-a337b4621d26"
      },
      "source": [
        "#print the output: \n",
        "#I want to pay 49.95 dollars for 3 pieces of item 567\n",
        "\n",
        "quantity = 3\n",
        "itemno = 567\n",
        "price = 49.95\n",
        "myorder = \"I want to pay {2} dollars for {0} pieces of item {1}.\"\n",
        "print(myorder.format(quantity,itemno,price))\n",
        "# print(myorder.format() "
      ],
      "execution_count": null,
      "outputs": [
        {
          "output_type": "stream",
          "text": [
            "I want to pay 49.95 dollars for 3 pieces of item 567.\n"
          ],
          "name": "stdout"
        }
      ]
    },
    {
      "cell_type": "code",
      "metadata": {
        "id": "fcLAtZJUn8dP",
        "colab": {
          "base_uri": "https://localhost:8080/"
        },
        "outputId": "a6b562fa-755e-4dae-f56f-df5bd1078c0c"
      },
      "source": [
        "# remove the error\n",
        "Sent = \"We will vist 'America' after two days.\"\n",
        "print(Sent)"
      ],
      "execution_count": null,
      "outputs": [
        {
          "output_type": "stream",
          "text": [
            "We will vist 'America' after two days.\n"
          ],
          "name": "stdout"
        }
      ]
    },
    {
      "cell_type": "code",
      "metadata": {
        "colab": {
          "base_uri": "https://localhost:8080/"
        },
        "id": "NASyDsBbofMs",
        "outputId": "c719a1d3-e774-4460-8186-6524e86a344a"
      },
      "source": [
        "# Print the sentence after comma in next line \n",
        "Sent=\" Hii Mona ,\\n When will we go for holidays ?  \"\n",
        "print(Sent)"
      ],
      "execution_count": null,
      "outputs": [
        {
          "output_type": "stream",
          "text": [
            " Hii Mona ,\n",
            " When will we go for holidays ?  \n"
          ],
          "name": "stdout"
        }
      ]
    },
    {
      "cell_type": "code",
      "metadata": {
        "id": "QGOrGORspHnt",
        "colab": {
          "base_uri": "https://localhost:8080/"
        },
        "outputId": "91092e0b-ae51-48f3-9914-ea63f5dd6aee"
      },
      "source": [
        "# Remove the duplicate from the list \n",
        "List=[\"Ram\",'Sam','Nick','Sam']\n",
        "List1 = set(List)\n",
        "List1"
      ],
      "execution_count": null,
      "outputs": [
        {
          "output_type": "execute_result",
          "data": {
            "text/plain": [
              "{'Nick', 'Ram', 'Sam'}"
            ]
          },
          "metadata": {
            "tags": []
          },
          "execution_count": 37
        }
      ]
    },
    {
      "cell_type": "code",
      "metadata": {
        "id": "eZfO5og7qk56",
        "colab": {
          "base_uri": "https://localhost:8080/"
        },
        "outputId": "f7ca0bc2-53f4-4b20-8400-fc6eb7d3e4ba"
      },
      "source": [
        "# Print last for element of list by negative Indexing \n",
        "\n",
        "Fruit_list = [\"apple\", \"banana\", \"cherry\", \"orange\", \"kiwi\", \"melon\", \"mango\"]\n",
        "print(Fruit_list[-1])"
      ],
      "execution_count": null,
      "outputs": [
        {
          "output_type": "stream",
          "text": [
            "mango\n"
          ],
          "name": "stdout"
        }
      ]
    },
    {
      "cell_type": "code",
      "metadata": {
        "id": "mPJFzwewrEij",
        "colab": {
          "base_uri": "https://localhost:8080/"
        },
        "outputId": "cb6e337b-7e4e-44f3-b2b9-de89356efa1a"
      },
      "source": [
        "# Replace the first Sam from Micky\n",
        "List=[\"Ram\",'Sam','Nick','Sam']\n",
        "List[0]= \"Micky\"\n",
        "List"
      ],
      "execution_count": null,
      "outputs": [
        {
          "output_type": "execute_result",
          "data": {
            "text/plain": [
              "['Micky', 'Sam', 'Nick', 'Sam']"
            ]
          },
          "metadata": {
            "tags": []
          },
          "execution_count": 42
        }
      ]
    },
    {
      "cell_type": "code",
      "metadata": {
        "id": "pSGdFz2srUMA",
        "colab": {
          "base_uri": "https://localhost:8080/"
        },
        "outputId": "d22949f9-b41e-499d-9211-2d0c187e159b"
      },
      "source": [
        "# Insert the Micky at 3rd index\n",
        "List=[\"Ram\",'Sam','Nick','Sam']\n",
        "List[3] = \"Micky\"\n",
        "List"
      ],
      "execution_count": null,
      "outputs": [
        {
          "output_type": "execute_result",
          "data": {
            "text/plain": [
              "['Ram', 'Sam', 'Nick', 'Micky']"
            ]
          },
          "metadata": {
            "tags": []
          },
          "execution_count": 43
        }
      ]
    },
    {
      "cell_type": "code",
      "metadata": {
        "id": "VwK2FyRrroiY",
        "colab": {
          "base_uri": "https://localhost:8080/"
        },
        "outputId": "f12b8f0e-7e11-4b34-a810-f0246c5a48bd"
      },
      "source": [
        "# Insert Kiwi in a tuple\n",
        "\n",
        "x = (\"apple\", \"banana\", \"cherry\")\n",
        "y = list(x)\n",
        "\n",
        "y.append(\"kiwi\")\n",
        "x = tuple(y)\n",
        "\n",
        "print(x)"
      ],
      "execution_count": null,
      "outputs": [
        {
          "output_type": "stream",
          "text": [
            "('apple', 'banana', 'cherry', 'kiwi')\n"
          ],
          "name": "stdout"
        }
      ]
    },
    {
      "cell_type": "code",
      "metadata": {
        "id": "UUky7WT4tnRM",
        "colab": {
          "base_uri": "https://localhost:8080/"
        },
        "outputId": "8f7420a1-7146-41e1-a12d-81b46f8d9d95"
      },
      "source": [
        "# Add item in set\n",
        "\n",
        "Fruits = {\"apple\", \"banana\", \"cherry\"}\n",
        "\n",
        "Fruits.add(\"Mango\")\n",
        "\n",
        "print(Fruits)"
      ],
      "execution_count": null,
      "outputs": [
        {
          "output_type": "stream",
          "text": [
            "{'cherry', 'apple', 'banana', 'Mango'}\n"
          ],
          "name": "stdout"
        }
      ]
    },
    {
      "cell_type": "code",
      "metadata": {
        "id": "NKHoF69hueSK",
        "colab": {
          "base_uri": "https://localhost:8080/"
        },
        "outputId": "2fe6fc6d-ae65-4b33-da37-febb818537ce"
      },
      "source": [
        "# Add two set\n",
        "Fruit1 = {\"apple\", \"banana\", \"cherry\"}\n",
        "Fruit2 = {\"pineapple\", \"mango\", \"papaya\"}\n",
        "\n",
        "print(Fruit1.union(Fruit2))\n"
      ],
      "execution_count": null,
      "outputs": [
        {
          "output_type": "stream",
          "text": [
            "{'cherry', 'papaya', 'apple', 'banana', 'mango', 'pineapple'}\n"
          ],
          "name": "stdout"
        }
      ]
    },
    {
      "cell_type": "code",
      "metadata": {
        "id": "Z5YUZ2dUvbwK",
        "colab": {
          "base_uri": "https://localhost:8080/"
        },
        "outputId": "3da8cdc0-c08f-4a42-a508-c50c7dfc8e22"
      },
      "source": [
        "# Remove the any item from the set\n",
        "set={\"Krishh\",\"Prince\",\"KUmar\"}\n",
        "set.remove(\"Prince\")\n",
        "set\n",
        " "
      ],
      "execution_count": null,
      "outputs": [
        {
          "output_type": "execute_result",
          "data": {
            "text/plain": [
              "{'KUmar', 'Krishh'}"
            ]
          },
          "metadata": {
            "tags": []
          },
          "execution_count": 58
        }
      ]
    },
    {
      "cell_type": "code",
      "metadata": {
        "id": "_f_XIOsVvtz5",
        "colab": {
          "base_uri": "https://localhost:8080/"
        },
        "outputId": "5d351044-f1f2-42a2-a21a-1fe40142b911"
      },
      "source": [
        "#Add a new item to the original dictionary, and see that the keys list gets updated as well:\n",
        "Bike = {\n",
        "\"brand\": \"Bajaj\",\n",
        "\"model\": \"TVS\",\n",
        "\"year\": 2013\n",
        "}\n",
        "\n",
        "x = Bike.keys()\n",
        "\n",
        "print(x) #before the change\n",
        "\n",
        "Bike[\"Rating\"] = \"A\"\n",
        "\n",
        "print(x) #after the change\n",
        "print(Bike)"
      ],
      "execution_count": null,
      "outputs": [
        {
          "output_type": "stream",
          "text": [
            "dict_keys(['brand', 'model', 'year'])\n",
            "dict_keys(['brand', 'model', 'year', 'Rating'])\n",
            "{'brand': 'Bajaj', 'model': 'TVS', 'year': 2013, 'Rating': 'A'}\n"
          ],
          "name": "stdout"
        }
      ]
    },
    {
      "cell_type": "code",
      "metadata": {
        "id": "m8OtEPYfwaqX",
        "colab": {
          "base_uri": "https://localhost:8080/"
        },
        "outputId": "02575021-c3ae-46b6-f53a-3324ea6d8c8b"
      },
      "source": [
        "#Update the item from the Dict\n",
        "Car = {\n",
        "  \"brand\": \"Ford\",\n",
        "  \"model\": \"Mustang\",\n",
        "  \"year\": 1964\n",
        "}\n",
        "Car.update({\"year\": 2020})\n",
        "Car"
      ],
      "execution_count": null,
      "outputs": [
        {
          "output_type": "execute_result",
          "data": {
            "text/plain": [
              "{'brand': 'Ford', 'model': 'Mustang', 'year': 2020}"
            ]
          },
          "metadata": {
            "tags": []
          },
          "execution_count": 64
        }
      ]
    },
    {
      "cell_type": "code",
      "metadata": {
        "id": "IknZvic6wvIo",
        "colab": {
          "base_uri": "https://localhost:8080/"
        },
        "outputId": "36fa2139-fab4-4746-e3e8-764dd77f51e2"
      },
      "source": [
        "car = {\n",
        "  \"brand\": \"Ford\",\n",
        "  \"model\": \"Mustang\",\n",
        "  \"year\": 1964\n",
        "}\n",
        "x = car.values()\n",
        "print(x)"
      ],
      "execution_count": null,
      "outputs": [
        {
          "output_type": "stream",
          "text": [
            "dict_values(['Ford', 'Mustang', 1964])\n"
          ],
          "name": "stdout"
        }
      ]
    },
    {
      "cell_type": "code",
      "metadata": {
        "id": "gIA-E4SRVQfl"
      },
      "source": [
        ""
      ],
      "execution_count": null,
      "outputs": []
    }
  ]
}